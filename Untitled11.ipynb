{
  "cells": [
    {
      "cell_type": "markdown",
      "metadata": {
        "id": "view-in-github",
        "colab_type": "text"
      },
      "source": [
        "<a href=\"https://colab.research.google.com/github/SZPiho/Stock-price-prediction-using-deep-learning/blob/main/Untitled11.ipynb\" target=\"_parent\"><img src=\"https://colab.research.google.com/assets/colab-badge.svg\" alt=\"Open In Colab\"/></a>"
      ]
    },
    {
      "cell_type": "code",
      "execution_count": null,
      "metadata": {
        "colab": {
          "base_uri": "https://localhost:8080/"
        },
        "id": "AFsORKAzkhcT",
        "outputId": "72aae20e-82bb-4700-fb79-d13c75e3c4cb"
      },
      "outputs": [
        {
          "output_type": "stream",
          "name": "stdout",
          "text": [
            "Collecting tensorflow-gpu\n",
            "  Downloading tensorflow_gpu-2.8.0-cp37-cp37m-manylinux2010_x86_64.whl (497.5 MB)\n",
            "\u001b[K     |████████████████████████████████| 497.5 MB 25 kB/s \n",
            "\u001b[?25hRequirement already satisfied: gast>=0.2.1 in /usr/local/lib/python3.7/dist-packages (from tensorflow-gpu) (0.5.3)\n",
            "Requirement already satisfied: keras-preprocessing>=1.1.1 in /usr/local/lib/python3.7/dist-packages (from tensorflow-gpu) (1.1.2)\n",
            "Requirement already satisfied: numpy>=1.20 in /usr/local/lib/python3.7/dist-packages (from tensorflow-gpu) (1.21.5)\n",
            "Requirement already satisfied: libclang>=9.0.1 in /usr/local/lib/python3.7/dist-packages (from tensorflow-gpu) (13.0.0)\n",
            "Requirement already satisfied: keras<2.9,>=2.8.0rc0 in /usr/local/lib/python3.7/dist-packages (from tensorflow-gpu) (2.8.0)\n",
            "Requirement already satisfied: six>=1.12.0 in /usr/local/lib/python3.7/dist-packages (from tensorflow-gpu) (1.15.0)\n",
            "Requirement already satisfied: astunparse>=1.6.0 in /usr/local/lib/python3.7/dist-packages (from tensorflow-gpu) (1.6.3)\n",
            "Requirement already satisfied: h5py>=2.9.0 in /usr/local/lib/python3.7/dist-packages (from tensorflow-gpu) (3.1.0)\n",
            "Requirement already satisfied: grpcio<2.0,>=1.24.3 in /usr/local/lib/python3.7/dist-packages (from tensorflow-gpu) (1.44.0)\n",
            "Requirement already satisfied: protobuf>=3.9.2 in /usr/local/lib/python3.7/dist-packages (from tensorflow-gpu) (3.17.3)\n",
            "Requirement already satisfied: typing-extensions>=3.6.6 in /usr/local/lib/python3.7/dist-packages (from tensorflow-gpu) (3.10.0.2)\n",
            "Requirement already satisfied: tensorflow-io-gcs-filesystem>=0.23.1 in /usr/local/lib/python3.7/dist-packages (from tensorflow-gpu) (0.24.0)\n",
            "Requirement already satisfied: absl-py>=0.4.0 in /usr/local/lib/python3.7/dist-packages (from tensorflow-gpu) (1.0.0)\n",
            "Requirement already satisfied: tensorboard<2.9,>=2.8 in /usr/local/lib/python3.7/dist-packages (from tensorflow-gpu) (2.8.0)\n",
            "Collecting tf-estimator-nightly==2.8.0.dev2021122109\n",
            "  Downloading tf_estimator_nightly-2.8.0.dev2021122109-py2.py3-none-any.whl (462 kB)\n",
            "\u001b[K     |████████████████████████████████| 462 kB 60.1 MB/s \n",
            "\u001b[?25hRequirement already satisfied: setuptools in /usr/local/lib/python3.7/dist-packages (from tensorflow-gpu) (57.4.0)\n",
            "Requirement already satisfied: termcolor>=1.1.0 in /usr/local/lib/python3.7/dist-packages (from tensorflow-gpu) (1.1.0)\n",
            "Requirement already satisfied: flatbuffers>=1.12 in /usr/local/lib/python3.7/dist-packages (from tensorflow-gpu) (2.0)\n",
            "Requirement already satisfied: google-pasta>=0.1.1 in /usr/local/lib/python3.7/dist-packages (from tensorflow-gpu) (0.2.0)\n",
            "Requirement already satisfied: opt-einsum>=2.3.2 in /usr/local/lib/python3.7/dist-packages (from tensorflow-gpu) (3.3.0)\n",
            "Requirement already satisfied: wrapt>=1.11.0 in /usr/local/lib/python3.7/dist-packages (from tensorflow-gpu) (1.14.0)\n",
            "Requirement already satisfied: wheel<1.0,>=0.23.0 in /usr/local/lib/python3.7/dist-packages (from astunparse>=1.6.0->tensorflow-gpu) (0.37.1)\n",
            "Requirement already satisfied: cached-property in /usr/local/lib/python3.7/dist-packages (from h5py>=2.9.0->tensorflow-gpu) (1.5.2)\n",
            "Requirement already satisfied: google-auth<3,>=1.6.3 in /usr/local/lib/python3.7/dist-packages (from tensorboard<2.9,>=2.8->tensorflow-gpu) (1.35.0)\n",
            "Requirement already satisfied: tensorboard-data-server<0.7.0,>=0.6.0 in /usr/local/lib/python3.7/dist-packages (from tensorboard<2.9,>=2.8->tensorflow-gpu) (0.6.1)\n",
            "Requirement already satisfied: google-auth-oauthlib<0.5,>=0.4.1 in /usr/local/lib/python3.7/dist-packages (from tensorboard<2.9,>=2.8->tensorflow-gpu) (0.4.6)\n",
            "Requirement already satisfied: markdown>=2.6.8 in /usr/local/lib/python3.7/dist-packages (from tensorboard<2.9,>=2.8->tensorflow-gpu) (3.3.6)\n",
            "Requirement already satisfied: werkzeug>=0.11.15 in /usr/local/lib/python3.7/dist-packages (from tensorboard<2.9,>=2.8->tensorflow-gpu) (1.0.1)\n",
            "Requirement already satisfied: tensorboard-plugin-wit>=1.6.0 in /usr/local/lib/python3.7/dist-packages (from tensorboard<2.9,>=2.8->tensorflow-gpu) (1.8.1)\n",
            "Requirement already satisfied: requests<3,>=2.21.0 in /usr/local/lib/python3.7/dist-packages (from tensorboard<2.9,>=2.8->tensorflow-gpu) (2.23.0)\n",
            "Requirement already satisfied: rsa<5,>=3.1.4 in /usr/local/lib/python3.7/dist-packages (from google-auth<3,>=1.6.3->tensorboard<2.9,>=2.8->tensorflow-gpu) (4.8)\n",
            "Requirement already satisfied: cachetools<5.0,>=2.0.0 in /usr/local/lib/python3.7/dist-packages (from google-auth<3,>=1.6.3->tensorboard<2.9,>=2.8->tensorflow-gpu) (4.2.4)\n",
            "Requirement already satisfied: pyasn1-modules>=0.2.1 in /usr/local/lib/python3.7/dist-packages (from google-auth<3,>=1.6.3->tensorboard<2.9,>=2.8->tensorflow-gpu) (0.2.8)\n",
            "Requirement already satisfied: requests-oauthlib>=0.7.0 in /usr/local/lib/python3.7/dist-packages (from google-auth-oauthlib<0.5,>=0.4.1->tensorboard<2.9,>=2.8->tensorflow-gpu) (1.3.1)\n",
            "Requirement already satisfied: importlib-metadata>=4.4 in /usr/local/lib/python3.7/dist-packages (from markdown>=2.6.8->tensorboard<2.9,>=2.8->tensorflow-gpu) (4.11.3)\n",
            "Requirement already satisfied: zipp>=0.5 in /usr/local/lib/python3.7/dist-packages (from importlib-metadata>=4.4->markdown>=2.6.8->tensorboard<2.9,>=2.8->tensorflow-gpu) (3.7.0)\n",
            "Requirement already satisfied: pyasn1<0.5.0,>=0.4.6 in /usr/local/lib/python3.7/dist-packages (from pyasn1-modules>=0.2.1->google-auth<3,>=1.6.3->tensorboard<2.9,>=2.8->tensorflow-gpu) (0.4.8)\n",
            "Requirement already satisfied: certifi>=2017.4.17 in /usr/local/lib/python3.7/dist-packages (from requests<3,>=2.21.0->tensorboard<2.9,>=2.8->tensorflow-gpu) (2021.10.8)\n",
            "Requirement already satisfied: idna<3,>=2.5 in /usr/local/lib/python3.7/dist-packages (from requests<3,>=2.21.0->tensorboard<2.9,>=2.8->tensorflow-gpu) (2.10)\n",
            "Requirement already satisfied: chardet<4,>=3.0.2 in /usr/local/lib/python3.7/dist-packages (from requests<3,>=2.21.0->tensorboard<2.9,>=2.8->tensorflow-gpu) (3.0.4)\n",
            "Requirement already satisfied: urllib3!=1.25.0,!=1.25.1,<1.26,>=1.21.1 in /usr/local/lib/python3.7/dist-packages (from requests<3,>=2.21.0->tensorboard<2.9,>=2.8->tensorflow-gpu) (1.24.3)\n",
            "Requirement already satisfied: oauthlib>=3.0.0 in /usr/local/lib/python3.7/dist-packages (from requests-oauthlib>=0.7.0->google-auth-oauthlib<0.5,>=0.4.1->tensorboard<2.9,>=2.8->tensorflow-gpu) (3.2.0)\n",
            "Installing collected packages: tf-estimator-nightly, tensorflow-gpu\n",
            "Successfully installed tensorflow-gpu-2.8.0 tf-estimator-nightly-2.8.0.dev2021122109\n"
          ]
        }
      ],
      "source": [
        "!pip install tensorflow-gpu"
      ]
    },
    {
      "cell_type": "code",
      "execution_count": null,
      "metadata": {
        "colab": {
          "base_uri": "https://localhost:8080/"
        },
        "id": "MB0JRUVwkji1",
        "outputId": "9afa882a-2563-44cf-99a5-5981fa69b9a0"
      },
      "outputs": [
        {
          "output_type": "stream",
          "name": "stdout",
          "text": [
            "Mounted at /content/drive/\n"
          ]
        }
      ],
      "source": [
        "from google.colab import drive\n",
        "drive.mount('/content/drive/')"
      ]
    },
    {
      "cell_type": "code",
      "execution_count": null,
      "metadata": {
        "id": "3KIux7DLk5J3"
      },
      "outputs": [],
      "source": [
        "import numpy as np\n",
        "import pandas as pd\n",
        "import matplotlib.pyplot as plt\n",
        "import seaborn as sns\n",
        "from sklearn.model_selection import train_test_split\n",
        "from sklearn.preprocessing import MinMaxScaler\n",
        "import tensorflow as tf\n",
        "from tensorflow import keras\n",
        "from tensorflow.keras.callbacks import EarlyStopping\n",
        "from tensorflow.keras.models import Sequential"
      ]
    },
    {
      "cell_type": "code",
      "execution_count": null,
      "metadata": {
        "id": "-S3M63-llB1l"
      },
      "outputs": [],
      "source": [
        "df = pd.read_json('/content/drive/MyDrive/archive/prices_2021.json')"
      ]
    },
    {
      "cell_type": "code",
      "execution_count": null,
      "metadata": {
        "id": "EJVRDs2elEw4"
      },
      "outputs": [],
      "source": [
        "df=df.set_index('date')"
      ]
    },
    {
      "cell_type": "code",
      "execution_count": null,
      "metadata": {
        "colab": {
          "base_uri": "https://localhost:8080/",
          "height": 238
        },
        "id": "9ssxw4XhlLyo",
        "outputId": "0eaa8940-6539-48fa-aa05-b509f7bbf719"
      },
      "outputs": [
        {
          "output_type": "execute_result",
          "data": {
            "text/plain": [
              "           trading_code  last_traded_price  high  low  opening_price  \\\n",
              "date                                                                   \n",
              "2021-12-30    1JANATAMF                6.2   6.4  6.2            6.3   \n",
              "2021-12-29    1JANATAMF                6.3   6.4  6.2            6.3   \n",
              "2021-12-28    1JANATAMF                6.3   6.3  6.1            6.2   \n",
              "2021-12-27    1JANATAMF                6.3   6.3  6.2            6.3   \n",
              "2021-12-26    1JANATAMF                6.2   6.4  6.2            6.3   \n",
              "\n",
              "            closing_price  yesterdays_closing_price  trade  value_mn  volume  \n",
              "date                                                                          \n",
              "2021-12-30            6.2                       6.3    132     3.150  504433  \n",
              "2021-12-29            6.3                       6.3     82     1.197  190078  \n",
              "2021-12-28            6.3                       6.2    136     2.526  405009  \n",
              "2021-12-27            6.2                       6.2    115     1.463  235782  \n",
              "2021-12-26            6.2                       6.3    162     2.203  350769  "
            ],
            "text/html": [
              "\n",
              "  <div id=\"df-5bb0f0a3-f1fc-4725-bedf-c958749e8ff9\">\n",
              "    <div class=\"colab-df-container\">\n",
              "      <div>\n",
              "<style scoped>\n",
              "    .dataframe tbody tr th:only-of-type {\n",
              "        vertical-align: middle;\n",
              "    }\n",
              "\n",
              "    .dataframe tbody tr th {\n",
              "        vertical-align: top;\n",
              "    }\n",
              "\n",
              "    .dataframe thead th {\n",
              "        text-align: right;\n",
              "    }\n",
              "</style>\n",
              "<table border=\"1\" class=\"dataframe\">\n",
              "  <thead>\n",
              "    <tr style=\"text-align: right;\">\n",
              "      <th></th>\n",
              "      <th>trading_code</th>\n",
              "      <th>last_traded_price</th>\n",
              "      <th>high</th>\n",
              "      <th>low</th>\n",
              "      <th>opening_price</th>\n",
              "      <th>closing_price</th>\n",
              "      <th>yesterdays_closing_price</th>\n",
              "      <th>trade</th>\n",
              "      <th>value_mn</th>\n",
              "      <th>volume</th>\n",
              "    </tr>\n",
              "    <tr>\n",
              "      <th>date</th>\n",
              "      <th></th>\n",
              "      <th></th>\n",
              "      <th></th>\n",
              "      <th></th>\n",
              "      <th></th>\n",
              "      <th></th>\n",
              "      <th></th>\n",
              "      <th></th>\n",
              "      <th></th>\n",
              "      <th></th>\n",
              "    </tr>\n",
              "  </thead>\n",
              "  <tbody>\n",
              "    <tr>\n",
              "      <th>2021-12-30</th>\n",
              "      <td>1JANATAMF</td>\n",
              "      <td>6.2</td>\n",
              "      <td>6.4</td>\n",
              "      <td>6.2</td>\n",
              "      <td>6.3</td>\n",
              "      <td>6.2</td>\n",
              "      <td>6.3</td>\n",
              "      <td>132</td>\n",
              "      <td>3.150</td>\n",
              "      <td>504433</td>\n",
              "    </tr>\n",
              "    <tr>\n",
              "      <th>2021-12-29</th>\n",
              "      <td>1JANATAMF</td>\n",
              "      <td>6.3</td>\n",
              "      <td>6.4</td>\n",
              "      <td>6.2</td>\n",
              "      <td>6.3</td>\n",
              "      <td>6.3</td>\n",
              "      <td>6.3</td>\n",
              "      <td>82</td>\n",
              "      <td>1.197</td>\n",
              "      <td>190078</td>\n",
              "    </tr>\n",
              "    <tr>\n",
              "      <th>2021-12-28</th>\n",
              "      <td>1JANATAMF</td>\n",
              "      <td>6.3</td>\n",
              "      <td>6.3</td>\n",
              "      <td>6.1</td>\n",
              "      <td>6.2</td>\n",
              "      <td>6.3</td>\n",
              "      <td>6.2</td>\n",
              "      <td>136</td>\n",
              "      <td>2.526</td>\n",
              "      <td>405009</td>\n",
              "    </tr>\n",
              "    <tr>\n",
              "      <th>2021-12-27</th>\n",
              "      <td>1JANATAMF</td>\n",
              "      <td>6.3</td>\n",
              "      <td>6.3</td>\n",
              "      <td>6.2</td>\n",
              "      <td>6.3</td>\n",
              "      <td>6.2</td>\n",
              "      <td>6.2</td>\n",
              "      <td>115</td>\n",
              "      <td>1.463</td>\n",
              "      <td>235782</td>\n",
              "    </tr>\n",
              "    <tr>\n",
              "      <th>2021-12-26</th>\n",
              "      <td>1JANATAMF</td>\n",
              "      <td>6.2</td>\n",
              "      <td>6.4</td>\n",
              "      <td>6.2</td>\n",
              "      <td>6.3</td>\n",
              "      <td>6.2</td>\n",
              "      <td>6.3</td>\n",
              "      <td>162</td>\n",
              "      <td>2.203</td>\n",
              "      <td>350769</td>\n",
              "    </tr>\n",
              "  </tbody>\n",
              "</table>\n",
              "</div>\n",
              "      <button class=\"colab-df-convert\" onclick=\"convertToInteractive('df-5bb0f0a3-f1fc-4725-bedf-c958749e8ff9')\"\n",
              "              title=\"Convert this dataframe to an interactive table.\"\n",
              "              style=\"display:none;\">\n",
              "        \n",
              "  <svg xmlns=\"http://www.w3.org/2000/svg\" height=\"24px\"viewBox=\"0 0 24 24\"\n",
              "       width=\"24px\">\n",
              "    <path d=\"M0 0h24v24H0V0z\" fill=\"none\"/>\n",
              "    <path d=\"M18.56 5.44l.94 2.06.94-2.06 2.06-.94-2.06-.94-.94-2.06-.94 2.06-2.06.94zm-11 1L8.5 8.5l.94-2.06 2.06-.94-2.06-.94L8.5 2.5l-.94 2.06-2.06.94zm10 10l.94 2.06.94-2.06 2.06-.94-2.06-.94-.94-2.06-.94 2.06-2.06.94z\"/><path d=\"M17.41 7.96l-1.37-1.37c-.4-.4-.92-.59-1.43-.59-.52 0-1.04.2-1.43.59L10.3 9.45l-7.72 7.72c-.78.78-.78 2.05 0 2.83L4 21.41c.39.39.9.59 1.41.59.51 0 1.02-.2 1.41-.59l7.78-7.78 2.81-2.81c.8-.78.8-2.07 0-2.86zM5.41 20L4 18.59l7.72-7.72 1.47 1.35L5.41 20z\"/>\n",
              "  </svg>\n",
              "      </button>\n",
              "      \n",
              "  <style>\n",
              "    .colab-df-container {\n",
              "      display:flex;\n",
              "      flex-wrap:wrap;\n",
              "      gap: 12px;\n",
              "    }\n",
              "\n",
              "    .colab-df-convert {\n",
              "      background-color: #E8F0FE;\n",
              "      border: none;\n",
              "      border-radius: 50%;\n",
              "      cursor: pointer;\n",
              "      display: none;\n",
              "      fill: #1967D2;\n",
              "      height: 32px;\n",
              "      padding: 0 0 0 0;\n",
              "      width: 32px;\n",
              "    }\n",
              "\n",
              "    .colab-df-convert:hover {\n",
              "      background-color: #E2EBFA;\n",
              "      box-shadow: 0px 1px 2px rgba(60, 64, 67, 0.3), 0px 1px 3px 1px rgba(60, 64, 67, 0.15);\n",
              "      fill: #174EA6;\n",
              "    }\n",
              "\n",
              "    [theme=dark] .colab-df-convert {\n",
              "      background-color: #3B4455;\n",
              "      fill: #D2E3FC;\n",
              "    }\n",
              "\n",
              "    [theme=dark] .colab-df-convert:hover {\n",
              "      background-color: #434B5C;\n",
              "      box-shadow: 0px 1px 3px 1px rgba(0, 0, 0, 0.15);\n",
              "      filter: drop-shadow(0px 1px 2px rgba(0, 0, 0, 0.3));\n",
              "      fill: #FFFFFF;\n",
              "    }\n",
              "  </style>\n",
              "\n",
              "      <script>\n",
              "        const buttonEl =\n",
              "          document.querySelector('#df-5bb0f0a3-f1fc-4725-bedf-c958749e8ff9 button.colab-df-convert');\n",
              "        buttonEl.style.display =\n",
              "          google.colab.kernel.accessAllowed ? 'block' : 'none';\n",
              "\n",
              "        async function convertToInteractive(key) {\n",
              "          const element = document.querySelector('#df-5bb0f0a3-f1fc-4725-bedf-c958749e8ff9');\n",
              "          const dataTable =\n",
              "            await google.colab.kernel.invokeFunction('convertToInteractive',\n",
              "                                                     [key], {});\n",
              "          if (!dataTable) return;\n",
              "\n",
              "          const docLinkHtml = 'Like what you see? Visit the ' +\n",
              "            '<a target=\"_blank\" href=https://colab.research.google.com/notebooks/data_table.ipynb>data table notebook</a>'\n",
              "            + ' to learn more about interactive tables.';\n",
              "          element.innerHTML = '';\n",
              "          dataTable['output_type'] = 'display_data';\n",
              "          await google.colab.output.renderOutput(dataTable, element);\n",
              "          const docLink = document.createElement('div');\n",
              "          docLink.innerHTML = docLinkHtml;\n",
              "          element.appendChild(docLink);\n",
              "        }\n",
              "      </script>\n",
              "    </div>\n",
              "  </div>\n",
              "  "
            ]
          },
          "metadata": {},
          "execution_count": 6
        }
      ],
      "source": [
        "df.head()"
      ]
    },
    {
      "cell_type": "code",
      "execution_count": null,
      "metadata": {
        "id": "5gzXz1emlVRU"
      },
      "outputs": [],
      "source": [
        "df=df.drop('trading_code',axis=1) "
      ]
    },
    {
      "cell_type": "code",
      "execution_count": null,
      "metadata": {
        "colab": {
          "base_uri": "https://localhost:8080/",
          "height": 238
        },
        "id": "cmxoXspoGDMa",
        "outputId": "bf2b34d0-6ffc-4af9-ba90-68df04a07376"
      },
      "outputs": [
        {
          "output_type": "execute_result",
          "data": {
            "text/plain": [
              "            last_traded_price  high  low  opening_price  closing_price  \\\n",
              "date                                                                     \n",
              "2021-12-30                6.2   6.4  6.2            6.3            6.2   \n",
              "2021-12-29                6.3   6.4  6.2            6.3            6.3   \n",
              "2021-12-28                6.3   6.3  6.1            6.2            6.3   \n",
              "2021-12-27                6.3   6.3  6.2            6.3            6.2   \n",
              "2021-12-26                6.2   6.4  6.2            6.3            6.2   \n",
              "\n",
              "            yesterdays_closing_price  trade  value_mn  volume  \n",
              "date                                                           \n",
              "2021-12-30                       6.3    132     3.150  504433  \n",
              "2021-12-29                       6.3     82     1.197  190078  \n",
              "2021-12-28                       6.2    136     2.526  405009  \n",
              "2021-12-27                       6.2    115     1.463  235782  \n",
              "2021-12-26                       6.3    162     2.203  350769  "
            ],
            "text/html": [
              "\n",
              "  <div id=\"df-825d69a2-075f-4ffe-8931-e960d17e2ecb\">\n",
              "    <div class=\"colab-df-container\">\n",
              "      <div>\n",
              "<style scoped>\n",
              "    .dataframe tbody tr th:only-of-type {\n",
              "        vertical-align: middle;\n",
              "    }\n",
              "\n",
              "    .dataframe tbody tr th {\n",
              "        vertical-align: top;\n",
              "    }\n",
              "\n",
              "    .dataframe thead th {\n",
              "        text-align: right;\n",
              "    }\n",
              "</style>\n",
              "<table border=\"1\" class=\"dataframe\">\n",
              "  <thead>\n",
              "    <tr style=\"text-align: right;\">\n",
              "      <th></th>\n",
              "      <th>last_traded_price</th>\n",
              "      <th>high</th>\n",
              "      <th>low</th>\n",
              "      <th>opening_price</th>\n",
              "      <th>closing_price</th>\n",
              "      <th>yesterdays_closing_price</th>\n",
              "      <th>trade</th>\n",
              "      <th>value_mn</th>\n",
              "      <th>volume</th>\n",
              "    </tr>\n",
              "    <tr>\n",
              "      <th>date</th>\n",
              "      <th></th>\n",
              "      <th></th>\n",
              "      <th></th>\n",
              "      <th></th>\n",
              "      <th></th>\n",
              "      <th></th>\n",
              "      <th></th>\n",
              "      <th></th>\n",
              "      <th></th>\n",
              "    </tr>\n",
              "  </thead>\n",
              "  <tbody>\n",
              "    <tr>\n",
              "      <th>2021-12-30</th>\n",
              "      <td>6.2</td>\n",
              "      <td>6.4</td>\n",
              "      <td>6.2</td>\n",
              "      <td>6.3</td>\n",
              "      <td>6.2</td>\n",
              "      <td>6.3</td>\n",
              "      <td>132</td>\n",
              "      <td>3.150</td>\n",
              "      <td>504433</td>\n",
              "    </tr>\n",
              "    <tr>\n",
              "      <th>2021-12-29</th>\n",
              "      <td>6.3</td>\n",
              "      <td>6.4</td>\n",
              "      <td>6.2</td>\n",
              "      <td>6.3</td>\n",
              "      <td>6.3</td>\n",
              "      <td>6.3</td>\n",
              "      <td>82</td>\n",
              "      <td>1.197</td>\n",
              "      <td>190078</td>\n",
              "    </tr>\n",
              "    <tr>\n",
              "      <th>2021-12-28</th>\n",
              "      <td>6.3</td>\n",
              "      <td>6.3</td>\n",
              "      <td>6.1</td>\n",
              "      <td>6.2</td>\n",
              "      <td>6.3</td>\n",
              "      <td>6.2</td>\n",
              "      <td>136</td>\n",
              "      <td>2.526</td>\n",
              "      <td>405009</td>\n",
              "    </tr>\n",
              "    <tr>\n",
              "      <th>2021-12-27</th>\n",
              "      <td>6.3</td>\n",
              "      <td>6.3</td>\n",
              "      <td>6.2</td>\n",
              "      <td>6.3</td>\n",
              "      <td>6.2</td>\n",
              "      <td>6.2</td>\n",
              "      <td>115</td>\n",
              "      <td>1.463</td>\n",
              "      <td>235782</td>\n",
              "    </tr>\n",
              "    <tr>\n",
              "      <th>2021-12-26</th>\n",
              "      <td>6.2</td>\n",
              "      <td>6.4</td>\n",
              "      <td>6.2</td>\n",
              "      <td>6.3</td>\n",
              "      <td>6.2</td>\n",
              "      <td>6.3</td>\n",
              "      <td>162</td>\n",
              "      <td>2.203</td>\n",
              "      <td>350769</td>\n",
              "    </tr>\n",
              "  </tbody>\n",
              "</table>\n",
              "</div>\n",
              "      <button class=\"colab-df-convert\" onclick=\"convertToInteractive('df-825d69a2-075f-4ffe-8931-e960d17e2ecb')\"\n",
              "              title=\"Convert this dataframe to an interactive table.\"\n",
              "              style=\"display:none;\">\n",
              "        \n",
              "  <svg xmlns=\"http://www.w3.org/2000/svg\" height=\"24px\"viewBox=\"0 0 24 24\"\n",
              "       width=\"24px\">\n",
              "    <path d=\"M0 0h24v24H0V0z\" fill=\"none\"/>\n",
              "    <path d=\"M18.56 5.44l.94 2.06.94-2.06 2.06-.94-2.06-.94-.94-2.06-.94 2.06-2.06.94zm-11 1L8.5 8.5l.94-2.06 2.06-.94-2.06-.94L8.5 2.5l-.94 2.06-2.06.94zm10 10l.94 2.06.94-2.06 2.06-.94-2.06-.94-.94-2.06-.94 2.06-2.06.94z\"/><path d=\"M17.41 7.96l-1.37-1.37c-.4-.4-.92-.59-1.43-.59-.52 0-1.04.2-1.43.59L10.3 9.45l-7.72 7.72c-.78.78-.78 2.05 0 2.83L4 21.41c.39.39.9.59 1.41.59.51 0 1.02-.2 1.41-.59l7.78-7.78 2.81-2.81c.8-.78.8-2.07 0-2.86zM5.41 20L4 18.59l7.72-7.72 1.47 1.35L5.41 20z\"/>\n",
              "  </svg>\n",
              "      </button>\n",
              "      \n",
              "  <style>\n",
              "    .colab-df-container {\n",
              "      display:flex;\n",
              "      flex-wrap:wrap;\n",
              "      gap: 12px;\n",
              "    }\n",
              "\n",
              "    .colab-df-convert {\n",
              "      background-color: #E8F0FE;\n",
              "      border: none;\n",
              "      border-radius: 50%;\n",
              "      cursor: pointer;\n",
              "      display: none;\n",
              "      fill: #1967D2;\n",
              "      height: 32px;\n",
              "      padding: 0 0 0 0;\n",
              "      width: 32px;\n",
              "    }\n",
              "\n",
              "    .colab-df-convert:hover {\n",
              "      background-color: #E2EBFA;\n",
              "      box-shadow: 0px 1px 2px rgba(60, 64, 67, 0.3), 0px 1px 3px 1px rgba(60, 64, 67, 0.15);\n",
              "      fill: #174EA6;\n",
              "    }\n",
              "\n",
              "    [theme=dark] .colab-df-convert {\n",
              "      background-color: #3B4455;\n",
              "      fill: #D2E3FC;\n",
              "    }\n",
              "\n",
              "    [theme=dark] .colab-df-convert:hover {\n",
              "      background-color: #434B5C;\n",
              "      box-shadow: 0px 1px 3px 1px rgba(0, 0, 0, 0.15);\n",
              "      filter: drop-shadow(0px 1px 2px rgba(0, 0, 0, 0.3));\n",
              "      fill: #FFFFFF;\n",
              "    }\n",
              "  </style>\n",
              "\n",
              "      <script>\n",
              "        const buttonEl =\n",
              "          document.querySelector('#df-825d69a2-075f-4ffe-8931-e960d17e2ecb button.colab-df-convert');\n",
              "        buttonEl.style.display =\n",
              "          google.colab.kernel.accessAllowed ? 'block' : 'none';\n",
              "\n",
              "        async function convertToInteractive(key) {\n",
              "          const element = document.querySelector('#df-825d69a2-075f-4ffe-8931-e960d17e2ecb');\n",
              "          const dataTable =\n",
              "            await google.colab.kernel.invokeFunction('convertToInteractive',\n",
              "                                                     [key], {});\n",
              "          if (!dataTable) return;\n",
              "\n",
              "          const docLinkHtml = 'Like what you see? Visit the ' +\n",
              "            '<a target=\"_blank\" href=https://colab.research.google.com/notebooks/data_table.ipynb>data table notebook</a>'\n",
              "            + ' to learn more about interactive tables.';\n",
              "          element.innerHTML = '';\n",
              "          dataTable['output_type'] = 'display_data';\n",
              "          await google.colab.output.renderOutput(dataTable, element);\n",
              "          const docLink = document.createElement('div');\n",
              "          docLink.innerHTML = docLinkHtml;\n",
              "          element.appendChild(docLink);\n",
              "        }\n",
              "      </script>\n",
              "    </div>\n",
              "  </div>\n",
              "  "
            ]
          },
          "metadata": {},
          "execution_count": 8
        }
      ],
      "source": [
        "df.head()"
      ]
    },
    {
      "cell_type": "code",
      "execution_count": null,
      "metadata": {
        "id": "-7ZmIk5olYuJ"
      },
      "outputs": [],
      "source": [
        "corr = df.corr()"
      ]
    },
    {
      "cell_type": "code",
      "execution_count": null,
      "metadata": {
        "colab": {
          "base_uri": "https://localhost:8080/",
          "height": 332
        },
        "id": "pdPEwYcPlk5M",
        "outputId": "2f55a2db-634a-476e-95f3-7746fa242d24"
      },
      "outputs": [
        {
          "output_type": "execute_result",
          "data": {
            "text/plain": [
              "                          last_traded_price      high       low  \\\n",
              "last_traded_price                  1.000000  0.999907  0.999925   \n",
              "high                               0.999907  1.000000  0.999828   \n",
              "low                                0.999925  0.999828  1.000000   \n",
              "opening_price                      0.999853  0.999916  0.999890   \n",
              "closing_price                      0.071886  0.071781  0.071945   \n",
              "yesterdays_closing_price          -0.079777 -0.080407 -0.079362   \n",
              "trade                              0.006304  0.007483  0.005257   \n",
              "value_mn                           0.003972  0.004704  0.003035   \n",
              "volume                            -0.069043 -0.069147 -0.069183   \n",
              "\n",
              "                          opening_price  closing_price  \\\n",
              "last_traded_price              0.999853       0.071886   \n",
              "high                           0.999916       0.071781   \n",
              "low                            0.999890       0.071945   \n",
              "opening_price                  1.000000       0.071849   \n",
              "closing_price                  0.071849       1.000000   \n",
              "yesterdays_closing_price      -0.079943      -0.024271   \n",
              "trade                          0.006433      -0.023014   \n",
              "value_mn                       0.003827      -0.016140   \n",
              "volume                        -0.069268      -0.024850   \n",
              "\n",
              "                          yesterdays_closing_price     trade  value_mn  \\\n",
              "last_traded_price                        -0.079777  0.006304  0.003972   \n",
              "high                                     -0.080407  0.007483  0.004704   \n",
              "low                                      -0.079362  0.005257  0.003035   \n",
              "opening_price                            -0.079943  0.006433  0.003827   \n",
              "closing_price                            -0.024271 -0.023014 -0.016140   \n",
              "yesterdays_closing_price                  1.000000 -0.151395 -0.105944   \n",
              "trade                                    -0.151395  1.000000  0.727851   \n",
              "value_mn                                 -0.105944  0.727851  1.000000   \n",
              "volume                                   -0.122357  0.582648  0.677619   \n",
              "\n",
              "                            volume  \n",
              "last_traded_price        -0.069043  \n",
              "high                     -0.069147  \n",
              "low                      -0.069183  \n",
              "opening_price            -0.069268  \n",
              "closing_price            -0.024850  \n",
              "yesterdays_closing_price -0.122357  \n",
              "trade                     0.582648  \n",
              "value_mn                  0.677619  \n",
              "volume                    1.000000  "
            ],
            "text/html": [
              "\n",
              "  <div id=\"df-eb915075-7fc3-4381-848b-fee89f5cb044\">\n",
              "    <div class=\"colab-df-container\">\n",
              "      <div>\n",
              "<style scoped>\n",
              "    .dataframe tbody tr th:only-of-type {\n",
              "        vertical-align: middle;\n",
              "    }\n",
              "\n",
              "    .dataframe tbody tr th {\n",
              "        vertical-align: top;\n",
              "    }\n",
              "\n",
              "    .dataframe thead th {\n",
              "        text-align: right;\n",
              "    }\n",
              "</style>\n",
              "<table border=\"1\" class=\"dataframe\">\n",
              "  <thead>\n",
              "    <tr style=\"text-align: right;\">\n",
              "      <th></th>\n",
              "      <th>last_traded_price</th>\n",
              "      <th>high</th>\n",
              "      <th>low</th>\n",
              "      <th>opening_price</th>\n",
              "      <th>closing_price</th>\n",
              "      <th>yesterdays_closing_price</th>\n",
              "      <th>trade</th>\n",
              "      <th>value_mn</th>\n",
              "      <th>volume</th>\n",
              "    </tr>\n",
              "  </thead>\n",
              "  <tbody>\n",
              "    <tr>\n",
              "      <th>last_traded_price</th>\n",
              "      <td>1.000000</td>\n",
              "      <td>0.999907</td>\n",
              "      <td>0.999925</td>\n",
              "      <td>0.999853</td>\n",
              "      <td>0.071886</td>\n",
              "      <td>-0.079777</td>\n",
              "      <td>0.006304</td>\n",
              "      <td>0.003972</td>\n",
              "      <td>-0.069043</td>\n",
              "    </tr>\n",
              "    <tr>\n",
              "      <th>high</th>\n",
              "      <td>0.999907</td>\n",
              "      <td>1.000000</td>\n",
              "      <td>0.999828</td>\n",
              "      <td>0.999916</td>\n",
              "      <td>0.071781</td>\n",
              "      <td>-0.080407</td>\n",
              "      <td>0.007483</td>\n",
              "      <td>0.004704</td>\n",
              "      <td>-0.069147</td>\n",
              "    </tr>\n",
              "    <tr>\n",
              "      <th>low</th>\n",
              "      <td>0.999925</td>\n",
              "      <td>0.999828</td>\n",
              "      <td>1.000000</td>\n",
              "      <td>0.999890</td>\n",
              "      <td>0.071945</td>\n",
              "      <td>-0.079362</td>\n",
              "      <td>0.005257</td>\n",
              "      <td>0.003035</td>\n",
              "      <td>-0.069183</td>\n",
              "    </tr>\n",
              "    <tr>\n",
              "      <th>opening_price</th>\n",
              "      <td>0.999853</td>\n",
              "      <td>0.999916</td>\n",
              "      <td>0.999890</td>\n",
              "      <td>1.000000</td>\n",
              "      <td>0.071849</td>\n",
              "      <td>-0.079943</td>\n",
              "      <td>0.006433</td>\n",
              "      <td>0.003827</td>\n",
              "      <td>-0.069268</td>\n",
              "    </tr>\n",
              "    <tr>\n",
              "      <th>closing_price</th>\n",
              "      <td>0.071886</td>\n",
              "      <td>0.071781</td>\n",
              "      <td>0.071945</td>\n",
              "      <td>0.071849</td>\n",
              "      <td>1.000000</td>\n",
              "      <td>-0.024271</td>\n",
              "      <td>-0.023014</td>\n",
              "      <td>-0.016140</td>\n",
              "      <td>-0.024850</td>\n",
              "    </tr>\n",
              "    <tr>\n",
              "      <th>yesterdays_closing_price</th>\n",
              "      <td>-0.079777</td>\n",
              "      <td>-0.080407</td>\n",
              "      <td>-0.079362</td>\n",
              "      <td>-0.079943</td>\n",
              "      <td>-0.024271</td>\n",
              "      <td>1.000000</td>\n",
              "      <td>-0.151395</td>\n",
              "      <td>-0.105944</td>\n",
              "      <td>-0.122357</td>\n",
              "    </tr>\n",
              "    <tr>\n",
              "      <th>trade</th>\n",
              "      <td>0.006304</td>\n",
              "      <td>0.007483</td>\n",
              "      <td>0.005257</td>\n",
              "      <td>0.006433</td>\n",
              "      <td>-0.023014</td>\n",
              "      <td>-0.151395</td>\n",
              "      <td>1.000000</td>\n",
              "      <td>0.727851</td>\n",
              "      <td>0.582648</td>\n",
              "    </tr>\n",
              "    <tr>\n",
              "      <th>value_mn</th>\n",
              "      <td>0.003972</td>\n",
              "      <td>0.004704</td>\n",
              "      <td>0.003035</td>\n",
              "      <td>0.003827</td>\n",
              "      <td>-0.016140</td>\n",
              "      <td>-0.105944</td>\n",
              "      <td>0.727851</td>\n",
              "      <td>1.000000</td>\n",
              "      <td>0.677619</td>\n",
              "    </tr>\n",
              "    <tr>\n",
              "      <th>volume</th>\n",
              "      <td>-0.069043</td>\n",
              "      <td>-0.069147</td>\n",
              "      <td>-0.069183</td>\n",
              "      <td>-0.069268</td>\n",
              "      <td>-0.024850</td>\n",
              "      <td>-0.122357</td>\n",
              "      <td>0.582648</td>\n",
              "      <td>0.677619</td>\n",
              "      <td>1.000000</td>\n",
              "    </tr>\n",
              "  </tbody>\n",
              "</table>\n",
              "</div>\n",
              "      <button class=\"colab-df-convert\" onclick=\"convertToInteractive('df-eb915075-7fc3-4381-848b-fee89f5cb044')\"\n",
              "              title=\"Convert this dataframe to an interactive table.\"\n",
              "              style=\"display:none;\">\n",
              "        \n",
              "  <svg xmlns=\"http://www.w3.org/2000/svg\" height=\"24px\"viewBox=\"0 0 24 24\"\n",
              "       width=\"24px\">\n",
              "    <path d=\"M0 0h24v24H0V0z\" fill=\"none\"/>\n",
              "    <path d=\"M18.56 5.44l.94 2.06.94-2.06 2.06-.94-2.06-.94-.94-2.06-.94 2.06-2.06.94zm-11 1L8.5 8.5l.94-2.06 2.06-.94-2.06-.94L8.5 2.5l-.94 2.06-2.06.94zm10 10l.94 2.06.94-2.06 2.06-.94-2.06-.94-.94-2.06-.94 2.06-2.06.94z\"/><path d=\"M17.41 7.96l-1.37-1.37c-.4-.4-.92-.59-1.43-.59-.52 0-1.04.2-1.43.59L10.3 9.45l-7.72 7.72c-.78.78-.78 2.05 0 2.83L4 21.41c.39.39.9.59 1.41.59.51 0 1.02-.2 1.41-.59l7.78-7.78 2.81-2.81c.8-.78.8-2.07 0-2.86zM5.41 20L4 18.59l7.72-7.72 1.47 1.35L5.41 20z\"/>\n",
              "  </svg>\n",
              "      </button>\n",
              "      \n",
              "  <style>\n",
              "    .colab-df-container {\n",
              "      display:flex;\n",
              "      flex-wrap:wrap;\n",
              "      gap: 12px;\n",
              "    }\n",
              "\n",
              "    .colab-df-convert {\n",
              "      background-color: #E8F0FE;\n",
              "      border: none;\n",
              "      border-radius: 50%;\n",
              "      cursor: pointer;\n",
              "      display: none;\n",
              "      fill: #1967D2;\n",
              "      height: 32px;\n",
              "      padding: 0 0 0 0;\n",
              "      width: 32px;\n",
              "    }\n",
              "\n",
              "    .colab-df-convert:hover {\n",
              "      background-color: #E2EBFA;\n",
              "      box-shadow: 0px 1px 2px rgba(60, 64, 67, 0.3), 0px 1px 3px 1px rgba(60, 64, 67, 0.15);\n",
              "      fill: #174EA6;\n",
              "    }\n",
              "\n",
              "    [theme=dark] .colab-df-convert {\n",
              "      background-color: #3B4455;\n",
              "      fill: #D2E3FC;\n",
              "    }\n",
              "\n",
              "    [theme=dark] .colab-df-convert:hover {\n",
              "      background-color: #434B5C;\n",
              "      box-shadow: 0px 1px 3px 1px rgba(0, 0, 0, 0.15);\n",
              "      filter: drop-shadow(0px 1px 2px rgba(0, 0, 0, 0.3));\n",
              "      fill: #FFFFFF;\n",
              "    }\n",
              "  </style>\n",
              "\n",
              "      <script>\n",
              "        const buttonEl =\n",
              "          document.querySelector('#df-eb915075-7fc3-4381-848b-fee89f5cb044 button.colab-df-convert');\n",
              "        buttonEl.style.display =\n",
              "          google.colab.kernel.accessAllowed ? 'block' : 'none';\n",
              "\n",
              "        async function convertToInteractive(key) {\n",
              "          const element = document.querySelector('#df-eb915075-7fc3-4381-848b-fee89f5cb044');\n",
              "          const dataTable =\n",
              "            await google.colab.kernel.invokeFunction('convertToInteractive',\n",
              "                                                     [key], {});\n",
              "          if (!dataTable) return;\n",
              "\n",
              "          const docLinkHtml = 'Like what you see? Visit the ' +\n",
              "            '<a target=\"_blank\" href=https://colab.research.google.com/notebooks/data_table.ipynb>data table notebook</a>'\n",
              "            + ' to learn more about interactive tables.';\n",
              "          element.innerHTML = '';\n",
              "          dataTable['output_type'] = 'display_data';\n",
              "          await google.colab.output.renderOutput(dataTable, element);\n",
              "          const docLink = document.createElement('div');\n",
              "          docLink.innerHTML = docLinkHtml;\n",
              "          element.appendChild(docLink);\n",
              "        }\n",
              "      </script>\n",
              "    </div>\n",
              "  </div>\n",
              "  "
            ]
          },
          "metadata": {},
          "execution_count": 10
        }
      ],
      "source": [
        "corr"
      ]
    },
    {
      "cell_type": "code",
      "execution_count": null,
      "metadata": {
        "colab": {
          "base_uri": "https://localhost:8080/",
          "height": 401
        },
        "id": "Rltbg2eHlr3P",
        "outputId": "87828139-399b-412a-e507-1ce5e804127d"
      },
      "outputs": [
        {
          "output_type": "execute_result",
          "data": {
            "text/plain": [
              "<matplotlib.axes._subplots.AxesSubplot at 0x7fea5b2adb90>"
            ]
          },
          "metadata": {},
          "execution_count": 11
        },
        {
          "output_type": "display_data",
          "data": {
            "text/plain": [
              "<Figure size 432x288 with 2 Axes>"
            ],
            "image/png": "[encoded data removed]"
          },
          "metadata": {
            "needs_background": "light"
          }
        }
      ],
      "source": [
        "sns.heatmap(corr)"
      ]
    },
    {
      "cell_type": "code",
      "execution_count": null,
      "metadata": {
        "colab": {
          "base_uri": "https://localhost:8080/"
        },
        "id": "9N5w1iQHluad",
        "outputId": "cbe487ea-13f4-4c47-b2db-951634e6deba"
      },
      "outputs": [
        {
          "output_type": "execute_result",
          "data": {
            "text/plain": [
              "last_traded_price           0\n",
              "high                        0\n",
              "low                         0\n",
              "opening_price               0\n",
              "closing_price               0\n",
              "yesterdays_closing_price    0\n",
              "trade                       0\n",
              "value_mn                    0\n",
              "volume                      0\n",
              "dtype: int64"
            ]
          },
          "metadata": {},
          "execution_count": 12
        }
      ],
      "source": [
        "df.isnull().sum()"
      ]
    },
    {
      "cell_type": "code",
      "execution_count": null,
      "metadata": {
        "colab": {
          "base_uri": "https://localhost:8080/",
          "height": 332
        },
        "id": "Cf2DJ-dHlyTk",
        "outputId": "f684d1cb-576f-4821-a179-3ab0076c81be"
      },
      "outputs": [
        {
          "output_type": "execute_result",
          "data": {
            "text/plain": [
              "                          closing_price\n",
              "last_traded_price              0.071886\n",
              "high                           0.071781\n",
              "low                            0.071945\n",
              "opening_price                  0.071849\n",
              "closing_price                  1.000000\n",
              "yesterdays_closing_price      -0.024271\n",
              "trade                         -0.023014\n",
              "value_mn                      -0.016140\n",
              "volume                        -0.024850"
            ],
            "text/html": [
              "\n",
              "  <div id=\"df-fb7be949-b259-4336-a222-216229611ddc\">\n",
              "    <div class=\"colab-df-container\">\n",
              "      <div>\n",
              "<style scoped>\n",
              "    .dataframe tbody tr th:only-of-type {\n",
              "        vertical-align: middle;\n",
              "    }\n",
              "\n",
              "    .dataframe tbody tr th {\n",
              "        vertical-align: top;\n",
              "    }\n",
              "\n",
              "    .dataframe thead th {\n",
              "        text-align: right;\n",
              "    }\n",
              "</style>\n",
              "<table border=\"1\" class=\"dataframe\">\n",
              "  <thead>\n",
              "    <tr style=\"text-align: right;\">\n",
              "      <th></th>\n",
              "      <th>closing_price</th>\n",
              "    </tr>\n",
              "  </thead>\n",
              "  <tbody>\n",
              "    <tr>\n",
              "      <th>last_traded_price</th>\n",
              "      <td>0.071886</td>\n",
              "    </tr>\n",
              "    <tr>\n",
              "      <th>high</th>\n",
              "      <td>0.071781</td>\n",
              "    </tr>\n",
              "    <tr>\n",
              "      <th>low</th>\n",
              "      <td>0.071945</td>\n",
              "    </tr>\n",
              "    <tr>\n",
              "      <th>opening_price</th>\n",
              "      <td>0.071849</td>\n",
              "    </tr>\n",
              "    <tr>\n",
              "      <th>closing_price</th>\n",
              "      <td>1.000000</td>\n",
              "    </tr>\n",
              "    <tr>\n",
              "      <th>yesterdays_closing_price</th>\n",
              "      <td>-0.024271</td>\n",
              "    </tr>\n",
              "    <tr>\n",
              "      <th>trade</th>\n",
              "      <td>-0.023014</td>\n",
              "    </tr>\n",
              "    <tr>\n",
              "      <th>value_mn</th>\n",
              "      <td>-0.016140</td>\n",
              "    </tr>\n",
              "    <tr>\n",
              "      <th>volume</th>\n",
              "      <td>-0.024850</td>\n",
              "    </tr>\n",
              "  </tbody>\n",
              "</table>\n",
              "</div>\n",
              "      <button class=\"colab-df-convert\" onclick=\"convertToInteractive('df-fb7be949-b259-4336-a222-216229611ddc')\"\n",
              "              title=\"Convert this dataframe to an interactive table.\"\n",
              "              style=\"display:none;\">\n",
              "        \n",
              "  <svg xmlns=\"http://www.w3.org/2000/svg\" height=\"24px\"viewBox=\"0 0 24 24\"\n",
              "       width=\"24px\">\n",
              "    <path d=\"M0 0h24v24H0V0z\" fill=\"none\"/>\n",
              "    <path d=\"M18.56 5.44l.94 2.06.94-2.06 2.06-.94-2.06-.94-.94-2.06-.94 2.06-2.06.94zm-11 1L8.5 8.5l.94-2.06 2.06-.94-2.06-.94L8.5 2.5l-.94 2.06-2.06.94zm10 10l.94 2.06.94-2.06 2.06-.94-2.06-.94-.94-2.06-.94 2.06-2.06.94z\"/><path d=\"M17.41 7.96l-1.37-1.37c-.4-.4-.92-.59-1.43-.59-.52 0-1.04.2-1.43.59L10.3 9.45l-7.72 7.72c-.78.78-.78 2.05 0 2.83L4 21.41c.39.39.9.59 1.41.59.51 0 1.02-.2 1.41-.59l7.78-7.78 2.81-2.81c.8-.78.8-2.07 0-2.86zM5.41 20L4 18.59l7.72-7.72 1.47 1.35L5.41 20z\"/>\n",
              "  </svg>\n",
              "      </button>\n",
              "      \n",
              "  <style>\n",
              "    .colab-df-container {\n",
              "      display:flex;\n",
              "      flex-wrap:wrap;\n",
              "      gap: 12px;\n",
              "    }\n",
              "\n",
              "    .colab-df-convert {\n",
              "      background-color: #E8F0FE;\n",
              "      border: none;\n",
              "      border-radius: 50%;\n",
              "      cursor: pointer;\n",
              "      display: none;\n",
              "      fill: #1967D2;\n",
              "      height: 32px;\n",
              "      padding: 0 0 0 0;\n",
              "      width: 32px;\n",
              "    }\n",
              "\n",
              "    .colab-df-convert:hover {\n",
              "      background-color: #E2EBFA;\n",
              "      box-shadow: 0px 1px 2px rgba(60, 64, 67, 0.3), 0px 1px 3px 1px rgba(60, 64, 67, 0.15);\n",
              "      fill: #174EA6;\n",
              "    }\n",
              "\n",
              "    [theme=dark] .colab-df-convert {\n",
              "      background-color: #3B4455;\n",
              "      fill: #D2E3FC;\n",
              "    }\n",
              "\n",
              "    [theme=dark] .colab-df-convert:hover {\n",
              "      background-color: #434B5C;\n",
              "      box-shadow: 0px 1px 3px 1px rgba(0, 0, 0, 0.15);\n",
              "      filter: drop-shadow(0px 1px 2px rgba(0, 0, 0, 0.3));\n",
              "      fill: #FFFFFF;\n",
              "    }\n",
              "  </style>\n",
              "\n",
              "      <script>\n",
              "        const buttonEl =\n",
              "          document.querySelector('#df-fb7be949-b259-4336-a222-216229611ddc button.colab-df-convert');\n",
              "        buttonEl.style.display =\n",
              "          google.colab.kernel.accessAllowed ? 'block' : 'none';\n",
              "\n",
              "        async function convertToInteractive(key) {\n",
              "          const element = document.querySelector('#df-fb7be949-b259-4336-a222-216229611ddc');\n",
              "          const dataTable =\n",
              "            await google.colab.kernel.invokeFunction('convertToInteractive',\n",
              "                                                     [key], {});\n",
              "          if (!dataTable) return;\n",
              "\n",
              "          const docLinkHtml = 'Like what you see? Visit the ' +\n",
              "            '<a target=\"_blank\" href=https://colab.research.google.com/notebooks/data_table.ipynb>data table notebook</a>'\n",
              "            + ' to learn more about interactive tables.';\n",
              "          element.innerHTML = '';\n",
              "          dataTable['output_type'] = 'display_data';\n",
              "          await google.colab.output.renderOutput(dataTable, element);\n",
              "          const docLink = document.createElement('div');\n",
              "          docLink.innerHTML = docLinkHtml;\n",
              "          element.appendChild(docLink);\n",
              "        }\n",
              "      </script>\n",
              "    </div>\n",
              "  </div>\n",
              "  "
            ]
          },
          "metadata": {},
          "execution_count": 13
        }
      ],
      "source": [
        "df.corr()[['closing_price']]"
      ]
    },
    {
      "cell_type": "code",
      "execution_count": null,
      "metadata": {
        "colab": {
          "base_uri": "https://localhost:8080/",
          "height": 397
        },
        "id": "pDaac7O8l12C",
        "outputId": "27b0a93e-9b1e-468e-bdbe-979dc0ff15c2"
      },
      "outputs": [
        {
          "output_type": "execute_result",
          "data": {
            "text/plain": [
              "<matplotlib.axes._subplots.AxesSubplot at 0x7fea5b27d2d0>"
            ]
          },
          "metadata": {},
          "execution_count": 14
        },
        {
          "output_type": "display_data",
          "data": {
            "text/plain": [
              "<Figure size 432x288 with 1 Axes>"
            ],
            "image/png": "[encoded data removed]"
          },
          "metadata": {
            "needs_background": "light"
          }
        }
      ],
      "source": [
        "df.corr()[['closing_price']].plot(kind='bar')"
      ]
    },
    {
      "cell_type": "code",
      "execution_count": null,
      "metadata": {
        "id": "hHQCxdCol-bu"
      },
      "outputs": [],
      "source": [
        "X = df.drop('closing_price',axis=True)\n",
        "y = df[['closing_price']]"
      ]
    },
    {
      "cell_type": "code",
      "execution_count": null,
      "metadata": {
        "id": "2RGFd9tYmA4r"
      },
      "outputs": [],
      "source": [
        "x_train,x_test,y_train,y_test = train_test_split(X,y,test_size=.2)\n",
        "result = y_test\n",
        "scaler = MinMaxScaler()\n",
        "scaler.fit(y_train)\n",
        "y_train =scaler.transform(y_train) # we transform the y so after predict we have to inverse transeform it\n",
        "scaler.fit(y_test)\n",
        "y_test =scaler.transform(y_test)\n",
        "scaler.fit(x_train)\n",
        "x_train =scaler.transform(x_train) # we transform the y so after predict we have to inverse transeform it\n",
        "scaler.fit(x_test)\n",
        "x_test =scaler.transform(x_test) # we transform the y so after predict we have to inverse transeform it"
      ]
    },
    {
      "cell_type": "code",
      "execution_count": null,
      "metadata": {
        "colab": {
          "base_uri": "https://localhost:8080/"
        },
        "id": "sRRuTBlomKEh",
        "outputId": "cf882210-6f28-43d0-98be-6f5bffe3b4a4"
      },
      "outputs": [
        {
          "output_type": "stream",
          "name": "stdout",
          "text": [
            "(82576, 8, 1)\n",
            "(20645, 8, 1)\n",
            "(82576, 1)\n",
            "(20645, 1)\n"
          ]
        }
      ],
      "source": [
        "##have to convert to 3 dim for feeding RNN\n",
        "x_train = np.array(x_train)\n",
        "x_test = np.array(x_test)\n",
        "\n",
        "x_train = np.reshape(x_train, (x_train.shape[0],x_train.shape[1],1))\n",
        "x_test = np.reshape(x_test, (x_test.shape[0],x_test.shape[1],1))\n",
        "\n",
        "print (x_train.shape)\n",
        "print (x_test.shape)\n",
        "print (y_train.shape)\n",
        "print (y_test.shape)"
      ]
    },
    {
      "cell_type": "code",
      "execution_count": null,
      "metadata": {
        "id": "LAiY_qkjmauU"
      },
      "outputs": [],
      "source": [
        "model=Sequential()\n",
        "model.add(tf.keras.layers.LSTM(100,return_sequences=True,input_shape=(8,1)))\n",
        "model.add(tf.keras.layers.Dropout(0.2))\n",
        "model.add(tf.keras.layers.LSTM(100,return_sequences=True))\n",
        "model.add(tf.keras.layers.Dropout(0.2))\n",
        "model.add(tf.keras.layers.LSTM(50,return_sequences=True))\n",
        "model.add(tf.keras.layers.Dropout(0.25))\n",
        "model.add(tf.keras.layers.LSTM(50,return_sequences=True))\n",
        "model.add(tf.keras.layers.LSTM(50))\n",
        "model.add(tf.keras.layers.Dense(1))\n",
        "model.compile(loss='mean_squared_error',optimizer='adam')"
      ]
    },
    {
      "cell_type": "code",
      "execution_count": null,
      "metadata": {
        "colab": {
          "base_uri": "https://localhost:8080/"
        },
        "id": "ftgyxZV0me5a",
        "outputId": "dea7575b-b17d-4fd1-fe8f-47d894b15da1"
      },
      "outputs": [
        {
          "output_type": "stream",
          "name": "stdout",
          "text": [
            "Epoch 1/20\n",
            "2581/2581 [==============================] - 99s 34ms/step - loss: 0.0022\n",
            "Epoch 2/20\n",
            "2581/2581 [==============================] - 89s 35ms/step - loss: 0.0022\n",
            "Epoch 3/20\n",
            "2581/2581 [==============================] - 92s 36ms/step - loss: 0.0022\n",
            "Epoch 4/20\n",
            "2581/2581 [==============================] - 90s 35ms/step - loss: 0.0022\n",
            "Epoch 5/20\n",
            "2581/2581 [==============================] - 89s 34ms/step - loss: 0.0022\n",
            "Epoch 6/20\n",
            "2581/2581 [==============================] - 90s 35ms/step - loss: 0.0022\n",
            "Epoch 7/20\n",
            "2581/2581 [==============================] - 90s 35ms/step - loss: 0.0022\n",
            "Epoch 8/20\n",
            "2581/2581 [==============================] - 90s 35ms/step - loss: 0.0022\n",
            "Epoch 9/20\n",
            "2581/2581 [==============================] - 92s 36ms/step - loss: 0.0021\n",
            "Epoch 10/20\n",
            "2581/2581 [==============================] - 94s 37ms/step - loss: 0.0021\n",
            "Epoch 11/20\n",
            "2581/2581 [==============================] - 93s 36ms/step - loss: 0.0021\n",
            "Epoch 12/20\n",
            "2581/2581 [==============================] - 93s 36ms/step - loss: 0.0021\n",
            "Epoch 13/20\n",
            "2581/2581 [==============================] - 92s 36ms/step - loss: 0.0021\n",
            "Epoch 14/20\n",
            "2581/2581 [==============================] - 92s 36ms/step - loss: 0.0021\n",
            "Epoch 15/20\n",
            "2581/2581 [==============================] - 90s 35ms/step - loss: 0.0020\n",
            "Epoch 16/20\n",
            "2581/2581 [==============================] - 90s 35ms/step - loss: 0.0021\n",
            "Epoch 17/20\n",
            "2581/2581 [==============================] - 89s 35ms/step - loss: 0.0021\n",
            "Epoch 18/20\n",
            "2581/2581 [==============================] - 90s 35ms/step - loss: 0.0020\n",
            "Epoch 19/20\n",
            "2581/2581 [==============================] - 90s 35ms/step - loss: 0.0020\n",
            "Epoch 20/20\n",
            "2581/2581 [==============================] - 89s 35ms/step - loss: 0.0020\n"
          ]
        }
      ],
      "source": [
        "history=model.fit(x_train,y_train,epochs=20)"
      ]
    },
    {
      "cell_type": "code",
      "execution_count": null,
      "metadata": {
        "id": "xSKA2r7YmjSG",
        "colab": {
          "base_uri": "https://localhost:8080/"
        },
        "outputId": "dfb0f9f5-842a-4300-eac5-448108de2ca0"
      },
      "outputs": [
        {
          "output_type": "stream",
          "name": "stdout",
          "text": [
            "Model: \"sequential\"\n",
            "_________________________________________________________________\n",
            " Layer (type)                Output Shape              Param #   \n",
            "=================================================================\n",
            " lstm (LSTM)                 (None, 8, 100)            40800     \n",
            "                                                                 \n",
            " dropout (Dropout)           (None, 8, 100)            0         \n",
            "                                                                 \n",
            " lstm_1 (LSTM)               (None, 8, 100)            80400     \n",
            "                                                                 \n",
            " dropout_1 (Dropout)         (None, 8, 100)            0         \n",
            "                                                                 \n",
            " lstm_2 (LSTM)               (None, 8, 50)             30200     \n",
            "                                                                 \n",
            " dropout_2 (Dropout)         (None, 8, 50)             0         \n",
            "                                                                 \n",
            " lstm_3 (LSTM)               (None, 8, 50)             20200     \n",
            "                                                                 \n",
            " lstm_4 (LSTM)               (None, 50)                20200     \n",
            "                                                                 \n",
            " dense (Dense)               (None, 1)                 51        \n",
            "                                                                 \n",
            "=================================================================\n",
            "Total params: 191,851\n",
            "Trainable params: 191,851\n",
            "Non-trainable params: 0\n",
            "_________________________________________________________________\n"
          ]
        }
      ],
      "source": [
        "model.summary()"
      ]
    },
    {
      "cell_type": "code",
      "execution_count": null,
      "metadata": {
        "id": "-vu0pvBbD3xX",
        "colab": {
          "base_uri": "https://localhost:8080/",
          "height": 1000
        },
        "outputId": "5ecb0e2c-6aa0-4ced-d56e-3d83b50bf6e4"
      },
      "outputs": [
        {
          "output_type": "execute_result",
          "data": {
            "text/plain": [
              "<IPython.core.display.Image object>"
            ],
            "image/png": "[encoded data removed]"
          },
          "metadata": {},
          "execution_count": 21
        }
      ],
      "source": [
        "from keras.utils.vis_utils import plot_model\n",
        "\n",
        "\n",
        "plot_model(model, to_file='model_plot.png', show_shapes=True, show_layer_names=True)"
      ]
    },
    {
      "cell_type": "code",
      "execution_count": null,
      "metadata": {
        "id": "XnFBfWgEoRsq"
      },
      "outputs": [],
      "source": [
        "y_pred = model.predict(x_test)"
      ]
    },
    {
      "cell_type": "code",
      "execution_count": null,
      "metadata": {
        "colab": {
          "base_uri": "https://localhost:8080/"
        },
        "id": "LOGCtSGKoYet",
        "outputId": "37421cf1-ea2e-4673-ac99-500663ce0b30"
      },
      "outputs": [
        {
          "output_type": "stream",
          "name": "stdout",
          "text": [
            "646/646 [==============================] - 9s 11ms/step - loss: 0.0017\n"
          ]
        },
        {
          "output_type": "execute_result",
          "data": {
            "text/plain": [
              "0.0016635626088827848"
            ]
          },
          "metadata": {},
          "execution_count": 23
        }
      ],
      "source": [
        "score = model.evaluate(x_test, y_test)\n",
        "score"
      ]
    },
    {
      "cell_type": "code",
      "execution_count": null,
      "metadata": {
        "colab": {
          "base_uri": "https://localhost:8080/"
        },
        "id": "WFobUZFgocPP",
        "outputId": "ba1cf2c8-8d83-4e98-da30-737027d91672"
      },
      "outputs": [
        {
          "output_type": "execute_result",
          "data": {
            "text/plain": [
              "array([[-0.00021697],\n",
              "       [-0.00016356],\n",
              "       [-0.00038941],\n",
              "       ...,\n",
              "       [ 0.00049503],\n",
              "       [-0.00122622],\n",
              "       [-0.00158893]], dtype=float32)"
            ]
          },
          "metadata": {},
          "execution_count": 24
        }
      ],
      "source": [
        "y_pred"
      ]
    },
    {
      "cell_type": "code",
      "execution_count": null,
      "metadata": {
        "colab": {
          "base_uri": "https://localhost:8080/"
        },
        "id": "KlGPY3FGoiS3",
        "outputId": "2795063b-1a6c-4893-d3e6-fdbdf5e6ea04"
      },
      "outputs": [
        {
          "output_type": "execute_result",
          "data": {
            "text/plain": [
              "array([[3.49e-04],\n",
              "       [3.74e-04],\n",
              "       [3.16e-04],\n",
              "       ...,\n",
              "       [6.90e-05],\n",
              "       [1.06e-04],\n",
              "       [1.58e-04]])"
            ]
          },
          "metadata": {},
          "execution_count": 25
        }
      ],
      "source": [
        "y_test"
      ]
    },
    {
      "cell_type": "code",
      "source": [
        "from sklearn.metrics import mean_absolute_error\n",
        "mean_absolute_error(y_test, y_pred)"
      ],
      "metadata": {
        "colab": {
          "base_uri": "https://localhost:8080/"
        },
        "id": "Ou5n7-RcPX_e",
        "outputId": "a4cc4242-c571-40c1-b0d5-a501c1886d6a"
      },
      "execution_count": null,
      "outputs": [
        {
          "output_type": "execute_result",
          "data": {
            "text/plain": [
              "0.005055206519688992"
            ]
          },
          "metadata": {},
          "execution_count": 26
        }
      ]
    },
    {
      "cell_type": "code",
      "source": [
        "import math\n",
        "MSE = np.square(np.subtract(y_test,y_pred)).mean()  \n",
        "RMSE = math.sqrt(MSE)\n",
        "RMSE"
      ],
      "metadata": {
        "colab": {
          "base_uri": "https://localhost:8080/"
        },
        "id": "h1f0Dx2INUpo",
        "outputId": "bd6138e9-b052-4df1-990b-95af65893420"
      },
      "execution_count": null,
      "outputs": [
        {
          "output_type": "execute_result",
          "data": {
            "text/plain": [
              "0.04078679982391408"
            ]
          },
          "metadata": {},
          "execution_count": 27
        }
      ]
    },
    {
      "cell_type": "code",
      "source": [
        "from sklearn.linear_model import LinearRegression\n",
        "from sklearn.metrics import accuracy_score\n",
        "x_train1 = np.reshape(x_train, (x_train.shape[0],x_train.shape[1]))\n",
        "x_test1 = np.reshape(x_test, (x_test.shape[0],x_test.shape[1]))\n",
        "model1 = LinearRegression()\n",
        "model.fit(x_train1, y_train)\n",
        "y_pred1 = model.predict(x_test1)"
      ],
      "metadata": {
        "colab": {
          "base_uri": "https://localhost:8080/"
        },
        "id": "sW_zJgiTh-P2",
        "outputId": "f8442a2b-bd18-428f-b6e7-680ad14ee743"
      },
      "execution_count": null,
      "outputs": [
        {
          "output_type": "stream",
          "name": "stdout",
          "text": [
            "2581/2581 [==============================] - 96s 35ms/step - loss: 0.0020\n"
          ]
        }
      ]
    },
    {
      "cell_type": "code",
      "source": [
        "from sklearn.metrics import mean_squared_error, r2_score, mean_absolute_error\n",
        "\n",
        "# Printout relevant metrics\n",
        "print(\"Mean Absolute Error:\", mean_absolute_error(y_test, y_pred1))\n",
        "print(\"Coefficient of Determination:\", r2_score(y_test, y_pred1))"
      ],
      "metadata": {
        "colab": {
          "base_uri": "https://localhost:8080/"
        },
        "id": "DLdwNGqTjslg",
        "outputId": "548735ed-3511-4a0d-c9a9-edb85db53f4a"
      },
      "execution_count": null,
      "outputs": [
        {
          "output_type": "stream",
          "name": "stdout",
          "text": [
            "Mean Absolute Error: 0.003954670972941372\n",
            "Coefficient of Determination: 0.09566053657642926\n"
          ]
        }
      ]
    },
    {
      "cell_type": "code",
      "source": [
        "from sklearn.svm import SVR\n",
        "regressor = SVR(kernel = 'rbf')\n",
        "regressor.fit(x_train1, y_train)\n",
        "y_pred2 = regressor.predict(x_test1) "
      ],
      "metadata": {
        "colab": {
          "base_uri": "https://localhost:8080/"
        },
        "id": "dRRhaNKclwu_",
        "outputId": "787eb16d-3d75-4986-c435-ebcef0b4c900"
      },
      "execution_count": null,
      "outputs": [
        {
          "output_type": "stream",
          "name": "stderr",
          "text": [
            "/usr/local/lib/python3.7/dist-packages/sklearn/utils/validation.py:993: DataConversionWarning: A column-vector y was passed when a 1d array was expected. Please change the shape of y to (n_samples, ), for example using ravel().\n",
            "  y = column_or_1d(y, warn=True)\n"
          ]
        }
      ]
    },
    {
      "cell_type": "code",
      "source": [
        "print(\"Mean Absolute Error:\", mean_absolute_error(y_test, y_pred2))"
      ],
      "metadata": {
        "colab": {
          "base_uri": "https://localhost:8080/"
        },
        "id": "nbcZYF1FmJRC",
        "outputId": "b2893361-d623-446d-c36d-f848d7737ff0"
      },
      "execution_count": null,
      "outputs": [
        {
          "output_type": "stream",
          "name": "stdout",
          "text": [
            "Mean Absolute Error: 0.10011015935065548\n"
          ]
        }
      ]
    },
    {
      "cell_type": "code",
      "execution_count": null,
      "metadata": {
        "id": "BS9SRXEKSdMv"
      },
      "outputs": [],
      "source": [
        "df2 = pd.read_json('/content/drive/MyDrive/archive/prices_2020.json')"
      ]
    },
    {
      "cell_type": "code",
      "execution_count": null,
      "metadata": {
        "colab": {
          "base_uri": "https://localhost:8080/",
          "height": 206
        },
        "id": "CxMkVWzvWD-3",
        "outputId": "865b7598-e366-4be6-b4b4-0f832e030304"
      },
      "outputs": [
        {
          "output_type": "execute_result",
          "data": {
            "text/plain": [
              "        date trading_code  last_traded_price  high  low  opening_price  \\\n",
              "0 2020-12-30    1JANATAMF                6.0   6.1  5.9            6.1   \n",
              "1 2020-12-29    1JANATAMF                6.1   6.3  6.0            6.2   \n",
              "2 2020-12-28    1JANATAMF                6.1   6.2  5.9            5.9   \n",
              "3 2020-12-27    1JANATAMF                5.9   6.0  5.8            5.9   \n",
              "4 2020-12-24    1JANATAMF                5.8   5.9  5.6            5.6   \n",
              "\n",
              "   closing_price  yesterdays_closing_price  trade  value_mn   volume  \n",
              "0            6.0                       6.0    271     7.694  1287797  \n",
              "1            6.0                       6.1    244     8.189  1348470  \n",
              "2            6.1                       5.9    339    14.594  2424350  \n",
              "3            5.9                       5.8    219     7.333  1241056  \n",
              "4            5.8                       5.7    194     4.993   869684  "
            ],
            "text/html": [
              "\n",
              "  <div id=\"df-3b92d91b-8edf-404c-bf52-590d596411d7\">\n",
              "    <div class=\"colab-df-container\">\n",
              "      <div>\n",
              "<style scoped>\n",
              "    .dataframe tbody tr th:only-of-type {\n",
              "        vertical-align: middle;\n",
              "    }\n",
              "\n",
              "    .dataframe tbody tr th {\n",
              "        vertical-align: top;\n",
              "    }\n",
              "\n",
              "    .dataframe thead th {\n",
              "        text-align: right;\n",
              "    }\n",
              "</style>\n",
              "<table border=\"1\" class=\"dataframe\">\n",
              "  <thead>\n",
              "    <tr style=\"text-align: right;\">\n",
              "      <th></th>\n",
              "      <th>date</th>\n",
              "      <th>trading_code</th>\n",
              "      <th>last_traded_price</th>\n",
              "      <th>high</th>\n",
              "      <th>low</th>\n",
              "      <th>opening_price</th>\n",
              "      <th>closing_price</th>\n",
              "      <th>yesterdays_closing_price</th>\n",
              "      <th>trade</th>\n",
              "      <th>value_mn</th>\n",
              "      <th>volume</th>\n",
              "    </tr>\n",
              "  </thead>\n",
              "  <tbody>\n",
              "    <tr>\n",
              "      <th>0</th>\n",
              "      <td>2020-12-30</td>\n",
              "      <td>1JANATAMF</td>\n",
              "      <td>6.0</td>\n",
              "      <td>6.1</td>\n",
              "      <td>5.9</td>\n",
              "      <td>6.1</td>\n",
              "      <td>6.0</td>\n",
              "      <td>6.0</td>\n",
              "      <td>271</td>\n",
              "      <td>7.694</td>\n",
              "      <td>1287797</td>\n",
              "    </tr>\n",
              "    <tr>\n",
              "      <th>1</th>\n",
              "      <td>2020-12-29</td>\n",
              "      <td>1JANATAMF</td>\n",
              "      <td>6.1</td>\n",
              "      <td>6.3</td>\n",
              "      <td>6.0</td>\n",
              "      <td>6.2</td>\n",
              "      <td>6.0</td>\n",
              "      <td>6.1</td>\n",
              "      <td>244</td>\n",
              "      <td>8.189</td>\n",
              "      <td>1348470</td>\n",
              "    </tr>\n",
              "    <tr>\n",
              "      <th>2</th>\n",
              "      <td>2020-12-28</td>\n",
              "      <td>1JANATAMF</td>\n",
              "      <td>6.1</td>\n",
              "      <td>6.2</td>\n",
              "      <td>5.9</td>\n",
              "      <td>5.9</td>\n",
              "      <td>6.1</td>\n",
              "      <td>5.9</td>\n",
              "      <td>339</td>\n",
              "      <td>14.594</td>\n",
              "      <td>2424350</td>\n",
              "    </tr>\n",
              "    <tr>\n",
              "      <th>3</th>\n",
              "      <td>2020-12-27</td>\n",
              "      <td>1JANATAMF</td>\n",
              "      <td>5.9</td>\n",
              "      <td>6.0</td>\n",
              "      <td>5.8</td>\n",
              "      <td>5.9</td>\n",
              "      <td>5.9</td>\n",
              "      <td>5.8</td>\n",
              "      <td>219</td>\n",
              "      <td>7.333</td>\n",
              "      <td>1241056</td>\n",
              "    </tr>\n",
              "    <tr>\n",
              "      <th>4</th>\n",
              "      <td>2020-12-24</td>\n",
              "      <td>1JANATAMF</td>\n",
              "      <td>5.8</td>\n",
              "      <td>5.9</td>\n",
              "      <td>5.6</td>\n",
              "      <td>5.6</td>\n",
              "      <td>5.8</td>\n",
              "      <td>5.7</td>\n",
              "      <td>194</td>\n",
              "      <td>4.993</td>\n",
              "      <td>869684</td>\n",
              "    </tr>\n",
              "  </tbody>\n",
              "</table>\n",
              "</div>\n",
              "      <button class=\"colab-df-convert\" onclick=\"convertToInteractive('df-3b92d91b-8edf-404c-bf52-590d596411d7')\"\n",
              "              title=\"Convert this dataframe to an interactive table.\"\n",
              "              style=\"display:none;\">\n",
              "        \n",
              "  <svg xmlns=\"http://www.w3.org/2000/svg\" height=\"24px\"viewBox=\"0 0 24 24\"\n",
              "       width=\"24px\">\n",
              "    <path d=\"M0 0h24v24H0V0z\" fill=\"none\"/>\n",
              "    <path d=\"M18.56 5.44l.94 2.06.94-2.06 2.06-.94-2.06-.94-.94-2.06-.94 2.06-2.06.94zm-11 1L8.5 8.5l.94-2.06 2.06-.94-2.06-.94L8.5 2.5l-.94 2.06-2.06.94zm10 10l.94 2.06.94-2.06 2.06-.94-2.06-.94-.94-2.06-.94 2.06-2.06.94z\"/><path d=\"M17.41 7.96l-1.37-1.37c-.4-.4-.92-.59-1.43-.59-.52 0-1.04.2-1.43.59L10.3 9.45l-7.72 7.72c-.78.78-.78 2.05 0 2.83L4 21.41c.39.39.9.59 1.41.59.51 0 1.02-.2 1.41-.59l7.78-7.78 2.81-2.81c.8-.78.8-2.07 0-2.86zM5.41 20L4 18.59l7.72-7.72 1.47 1.35L5.41 20z\"/>\n",
              "  </svg>\n",
              "      </button>\n",
              "      \n",
              "  <style>\n",
              "    .colab-df-container {\n",
              "      display:flex;\n",
              "      flex-wrap:wrap;\n",
              "      gap: 12px;\n",
              "    }\n",
              "\n",
              "    .colab-df-convert {\n",
              "      background-color: #E8F0FE;\n",
              "      border: none;\n",
              "      border-radius: 50%;\n",
              "      cursor: pointer;\n",
              "      display: none;\n",
              "      fill: #1967D2;\n",
              "      height: 32px;\n",
              "      padding: 0 0 0 0;\n",
              "      width: 32px;\n",
              "    }\n",
              "\n",
              "    .colab-df-convert:hover {\n",
              "      background-color: #E2EBFA;\n",
              "      box-shadow: 0px 1px 2px rgba(60, 64, 67, 0.3), 0px 1px 3px 1px rgba(60, 64, 67, 0.15);\n",
              "      fill: #174EA6;\n",
              "    }\n",
              "\n",
              "    [theme=dark] .colab-df-convert {\n",
              "      background-color: #3B4455;\n",
              "      fill: #D2E3FC;\n",
              "    }\n",
              "\n",
              "    [theme=dark] .colab-df-convert:hover {\n",
              "      background-color: #434B5C;\n",
              "      box-shadow: 0px 1px 3px 1px rgba(0, 0, 0, 0.15);\n",
              "      filter: drop-shadow(0px 1px 2px rgba(0, 0, 0, 0.3));\n",
              "      fill: #FFFFFF;\n",
              "    }\n",
              "  </style>\n",
              "\n",
              "      <script>\n",
              "        const buttonEl =\n",
              "          document.querySelector('#df-3b92d91b-8edf-404c-bf52-590d596411d7 button.colab-df-convert');\n",
              "        buttonEl.style.display =\n",
              "          google.colab.kernel.accessAllowed ? 'block' : 'none';\n",
              "\n",
              "        async function convertToInteractive(key) {\n",
              "          const element = document.querySelector('#df-3b92d91b-8edf-404c-bf52-590d596411d7');\n",
              "          const dataTable =\n",
              "            await google.colab.kernel.invokeFunction('convertToInteractive',\n",
              "                                                     [key], {});\n",
              "          if (!dataTable) return;\n",
              "\n",
              "          const docLinkHtml = 'Like what you see? Visit the ' +\n",
              "            '<a target=\"_blank\" href=https://colab.research.google.com/notebooks/data_table.ipynb>data table notebook</a>'\n",
              "            + ' to learn more about interactive tables.';\n",
              "          element.innerHTML = '';\n",
              "          dataTable['output_type'] = 'display_data';\n",
              "          await google.colab.output.renderOutput(dataTable, element);\n",
              "          const docLink = document.createElement('div');\n",
              "          docLink.innerHTML = docLinkHtml;\n",
              "          element.appendChild(docLink);\n",
              "        }\n",
              "      </script>\n",
              "    </div>\n",
              "  </div>\n",
              "  "
            ]
          },
          "metadata": {},
          "execution_count": 33
        }
      ],
      "source": [
        "df2.head()"
      ]
    },
    {
      "cell_type": "code",
      "execution_count": null,
      "metadata": {
        "id": "c3joGYsbWJh2"
      },
      "outputs": [],
      "source": [
        "df2=df2.set_index('date')"
      ]
    },
    {
      "cell_type": "code",
      "execution_count": null,
      "metadata": {
        "id": "m3xBQIWyWO1g"
      },
      "outputs": [],
      "source": [
        "df2=df2.drop('trading_code',axis=1) "
      ]
    },
    {
      "cell_type": "code",
      "execution_count": null,
      "metadata": {
        "id": "dIjZsht9WV9Z"
      },
      "outputs": [],
      "source": [
        "X2 = df2.drop('closing_price',axis=True)\n",
        "y2 = df2[['closing_price']]"
      ]
    },
    {
      "cell_type": "code",
      "execution_count": null,
      "metadata": {
        "id": "VrrB3GFPWnRO"
      },
      "outputs": [],
      "source": [
        "scaler = MinMaxScaler()\n",
        "scaler.fit(y2)\n",
        "y2=scaler.transform(y2) # we transform the y so after predict we have to inverse transeform it\n",
        "scaler.fit(X2)\n",
        "x2=scaler.transform(X2) # we transform the y so after predict we have to inverse transeform it"
      ]
    },
    {
      "cell_type": "code",
      "execution_count": null,
      "metadata": {
        "colab": {
          "base_uri": "https://localhost:8080/"
        },
        "id": "Uz5uINMjXKTW",
        "outputId": "bd580625-a896-4ff5-94fe-0425e7bfd940"
      },
      "outputs": [
        {
          "output_type": "stream",
          "name": "stdout",
          "text": [
            "(116743, 8, 1)\n",
            "(116743, 1)\n"
          ]
        }
      ],
      "source": [
        "X2 = np.array(X2)\n",
        "X2 = np.reshape(X2, (X2.shape[0],X2.shape[1],1))\n",
        "\n",
        "print (X2.shape)\n",
        "print (y2.shape)"
      ]
    },
    {
      "cell_type": "code",
      "execution_count": null,
      "metadata": {
        "id": "F_F5vjMsXtpm",
        "colab": {
          "base_uri": "https://localhost:8080/"
        },
        "outputId": "cde435f6-6d01-4356-fdee-86209c6383bf"
      },
      "outputs": [
        {
          "output_type": "stream",
          "name": "stdout",
          "text": [
            "3649/3649 [==============================] - 39s 11ms/step - loss: 1.0092\n"
          ]
        },
        {
          "output_type": "execute_result",
          "data": {
            "text/plain": [
              "1.0091526508331299"
            ]
          },
          "metadata": {},
          "execution_count": 39
        }
      ],
      "source": [
        "score2 = model.evaluate(X2, y2)\n",
        "score2"
      ]
    },
    {
      "cell_type": "code",
      "source": [
        ""
      ],
      "metadata": {
        "id": "Me1_xGnSCYHD"
      },
      "execution_count": null,
      "outputs": []
    }
  ],
  "metadata": {
    "colab": {
      "collapsed_sections": [],
      "name": "Untitled11.ipynb",
      "provenance": [],
      "authorship_tag": "ABX9TyMVuBAdo3xk1fS7XQLAiMQ6",
      "include_colab_link": true
    },
    "kernelspec": {
      "display_name": "Python 3",
      "name": "python3"
    },
    "language_info": {
      "name": "python"
    }
  },
  "nbformat": 4,
  "nbformat_minor": 0
}